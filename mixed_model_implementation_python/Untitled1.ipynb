{
 "cells": [
  {
   "cell_type": "code",
   "execution_count": 7,
   "metadata": {},
   "outputs": [
    {
     "ename": "SyntaxError",
     "evalue": "invalid character in identifier (visualize.py, line 42)",
     "output_type": "error",
     "traceback": [
      "Traceback \u001b[1;36m(most recent call last)\u001b[0m:\n",
      "  File \u001b[0;32m\"C:\\Users\\cassi\\Anaconda3\\envs\\deep-learning\\lib\\site-packages\\IPython\\core\\interactiveshell.py\"\u001b[0m, line \u001b[0;32m3343\u001b[0m, in \u001b[0;35mrun_code\u001b[0m\n    exec(code_obj, self.user_global_ns, self.user_ns)\n",
      "\u001b[1;36m  File \u001b[1;32m\"<ipython-input-7-db18632a2169>\"\u001b[1;36m, line \u001b[1;32m6\u001b[1;36m, in \u001b[1;35m<module>\u001b[1;36m\u001b[0m\n\u001b[1;33m    from lib import visualize\u001b[0m\n",
      "\u001b[1;36m  File \u001b[1;32m\"C:\\Users\\cassi\\Documents\\GitHub\\tdsbm_supplementary_material\\mixed_model_implementation_python\\lib\\visualize.py\"\u001b[1;36m, line \u001b[1;32m42\u001b[0m\n\u001b[1;33m    plt.savefig(filename+”block_omegas.png\")\u001b[0m\n\u001b[1;37m                                     ^\u001b[0m\n\u001b[1;31mSyntaxError\u001b[0m\u001b[1;31m:\u001b[0m invalid character in identifier\n"
     ]
    }
   ],
   "source": [
    "import numpy as np\n",
    "import pandas as pd\n",
    "from matplotlib import pyplot as plt\n",
    "\n",
    "from lib import gradient_mixed\n",
    "from lib import visualize\n",
    "from lib import mixmem_aux\n",
    "\n",
    "\n",
    "import math\n",
    "import random\n",
    "import scipy as scp\n",
    "import scipy.stats as stats\n",
    "import matplotlib.pyplot as plt\n",
    "\n",
    "gradient_descent = gradient_mixed.gradient_descent\n",
    "realistic_initial = gradient_mixed.realistic_initial\n",
    "likelihood = mixmem_aux.likelihood\n",
    "mu_likelihood = mixmem_aux.mu_likelihood\n",
    "scatterplot_city = visualize.scatterplot_city\n",
    "block_omegas = visualize.block_omegas"
   ]
  },
  {
   "cell_type": "code",
   "execution_count": null,
   "metadata": {},
   "outputs": [],
   "source": []
  }
 ],
 "metadata": {
  "kernelspec": {
   "display_name": "Python 3",
   "language": "python",
   "name": "python3"
  },
  "language_info": {
   "codemirror_mode": {
    "name": "ipython",
    "version": 3
   },
   "file_extension": ".py",
   "mimetype": "text/x-python",
   "name": "python",
   "nbconvert_exporter": "python",
   "pygments_lexer": "ipython3",
   "version": "3.7.7"
  }
 },
 "nbformat": 4,
 "nbformat_minor": 4
}
